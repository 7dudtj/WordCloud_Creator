{
 "cells": [
  {
   "cell_type": "markdown",
   "metadata": {},
   "source": [
    "# WordCloud Creator"
   ]
  },
  {
   "cell_type": "code",
   "execution_count": null,
   "metadata": {},
   "outputs": [],
   "source": [
    "# import libraries\n",
    "from bs4 import BeautifulSoup\n",
    "import requests\n",
    "from tqdm import tqdm\n",
    "import re\n",
    "import konlpy\n",
    "from collections import Counter\n",
    "from wordcloud import WordCloud\n",
    "from wordcloud import ImageColorGenerator\n",
    "import numpy as np\n",
    "from PIL import Image"
   ]
  },
  {
   "cell_type": "markdown",
   "metadata": {},
   "source": [
    "---"
   ]
  },
  {
   "cell_type": "markdown",
   "metadata": {},
   "source": [
    "## User setting variables"
   ]
  },
  {
   "cell_type": "markdown",
   "metadata": {},
   "source": [
    "### User-Agent\n",
    "자신의 User-Agent를 확인한 후, 지정해주어야 로봇으로의 인식을 방지할 수 있음  \n",
    "자신의 User-Agent는 [what is my user agent](https://www.whatismybrowser.com/detect/what-is-my-user-agent/) 에서 확인할 수 있음"
   ]
  },
  {
   "cell_type": "code",
   "execution_count": null,
   "metadata": {},
   "outputs": [],
   "source": [
    "# set User-Agent\n",
    "\n",
    "# for Windows\n",
    "headers = {'User-Agent': 'Mozilla/5.0 (Windows NT 10.0; Win64; x64) AppleWebKit/537.36 (KHTML, like Gecko) Chrome/106.0.0.0 Safari/537.36'}\n",
    "\n",
    "# for MacOS\n",
    "# headers = {'User-Agent' : 'Mozilla/5.0 (Macintosh; Intel Mac OS X 10_15_7) AppleWebKit/537.36 (KHTML, like Gecko) Chrome/103.0.0.0 Safari/537.36'}"
   ]
  },
  {
   "cell_type": "markdown",
   "metadata": {},
   "source": [
    "## Keyword & numbers\n",
    "* 워드클라우드를 만들고자 하는 키워드 단어를 입력    \n",
    "* 크롤링 하고자 하는 뉴스 제목의 수를 입력"
   ]
  },
  {
   "cell_type": "code",
   "execution_count": null,
   "metadata": {},
   "outputs": [],
   "source": [
    "# set keyword & numbers\n",
    "keyword = '포도'\n",
    "numbers = 1000"
   ]
  },
  {
   "cell_type": "markdown",
   "metadata": {},
   "source": [
    "## Font\n",
    "* 사용하고자 하는 한국어 폰트의 경로를 지정"
   ]
  },
  {
   "cell_type": "code",
   "execution_count": null,
   "metadata": {},
   "outputs": [],
   "source": [
    "# set Korean font path\n",
    "\n",
    "# for Windows\n",
    "FONT_PATH = \"C:\\Windows\\Fonts\\malgun.ttf\"\n",
    "\n",
    "# for MacOS\n",
    "# FONT_PATH = '/System/Library/Fonts/AppleSDGothicNeo.ttc'"
   ]
  },
  {
   "cell_type": "markdown",
   "metadata": {},
   "source": [
    "## Mask\n",
    "* 사용하고자 하는 마스크 이미지의 경로를 지정\n",
    "* 이미지를 다운받아 'Mask' 폴더에 넣은 후\n",
    "* 'Mask/{mask_image_name}.{extension}' 형식으로 이미지 불러오기"
   ]
  },
  {
   "cell_type": "code",
   "execution_count": null,
   "metadata": {},
   "outputs": [],
   "source": [
    "# set mask image's path\n",
    "\n",
    "mask = np.array(Image.open('Mask/grape.jpg'))"
   ]
  },
  {
   "cell_type": "markdown",
   "metadata": {},
   "source": [
    "---"
   ]
  },
  {
   "cell_type": "code",
   "execution_count": null,
   "metadata": {},
   "outputs": [],
   "source": [
    "# set needed variables\n",
    "number_list = []\n",
    "for i in range(int(numbers/10)):\n",
    "    number_list.append(i*10+1)\n",
    "f = open(f\"Data/news_titles_{keyword}.txt\", 'w')"
   ]
  },
  {
   "cell_type": "code",
   "execution_count": null,
   "metadata": {},
   "outputs": [],
   "source": [
    "# crawl news titles and write to text file\n",
    "for page in tqdm(number_list):\n",
    "    try:\n",
    "        url = f'https://search.naver.com/search.naver?where=news&sm=tab_pge&query={keyword}&start={page}'\n",
    "        res = requests.get(url, headers=headers)\n",
    "        res.raise_for_status()\n",
    "        soup = BeautifulSoup(res.text, 'lxml')\n",
    "\n",
    "        titles = soup.select(\"#main_pack > section > div > div.group_news > ul > li\")\n",
    "\n",
    "        for title in titles:\n",
    "            news_title = title.find('a', attrs={\"class\": \"news_tit\"})['title']\n",
    "            f.write(f'{news_title}\\n')\n",
    "    except:\n",
    "        continue\n",
    "f.close()"
   ]
  },
  {
   "cell_type": "code",
   "execution_count": null,
   "metadata": {},
   "outputs": [],
   "source": [
    "# read news titles\n",
    "with open(f\"Data/news_titles_{keyword}.txt\") as f:\n",
    "    text = f.readlines()"
   ]
  },
  {
   "cell_type": "code",
   "execution_count": null,
   "metadata": {},
   "outputs": [],
   "source": [
    "# pre-process data\n",
    "text_strip = list([i.strip() for i in text if i != '\\n'])\n",
    "text_join = ' '.join(text_strip)\n",
    "text_filtered = re.sub(r'[^\\d\\s\\w]', ' ', text_join)"
   ]
  },
  {
   "cell_type": "code",
   "execution_count": null,
   "metadata": {},
   "outputs": [],
   "source": [
    "# use komoran\n",
    "komoran = konlpy.tag.Komoran()\n",
    "komoran_pos = komoran.pos(text_filtered)\n",
    "komoran_nouns = komoran.nouns(text_filtered)"
   ]
  },
  {
   "cell_type": "code",
   "execution_count": null,
   "metadata": {},
   "outputs": [],
   "source": [
    "# delete stopword\n",
    "stop_words = ['이오', '에다', '하오', '마오']\n",
    "unique_Noun_words = set(komoran_nouns)\n",
    "for word in unique_Noun_words:\n",
    "    if word in stop_words or len(word) == 1:\n",
    "        while word in komoran_nouns:\n",
    "            komoran_nouns.remove(word)"
   ]
  },
  {
   "cell_type": "code",
   "execution_count": null,
   "metadata": {},
   "outputs": [],
   "source": [
    "# analysis frequency\n",
    "c = Counter(komoran_nouns)\n",
    "frequent = c.most_common(20)"
   ]
  },
  {
   "cell_type": "code",
   "execution_count": null,
   "metadata": {},
   "outputs": [],
   "source": [
    "# create word cloud\n",
    "\n",
    "wordcloud = WordCloud(\n",
    "    max_font_size=60, \n",
    "    width=300,\n",
    "    height=300,\n",
    "    relative_scaling='auto', \n",
    "    font_path=FONT_PATH, \n",
    "    background_color='white',\n",
    "    color_func=ImageColorGenerator(mask),\n",
    "    mask=mask\n",
    "    )\n",
    "wordcloud.generate_from_frequencies(c) \n",
    "wordcloud.to_image()\n"
   ]
  },
  {
   "cell_type": "code",
   "execution_count": null,
   "metadata": {},
   "outputs": [],
   "source": [
    "# save word cloud image\n",
    "wordcloud.to_file(f'Image/WordCloud_{keyword}.png')"
   ]
  }
 ],
 "metadata": {
  "kernelspec": {
   "display_name": "Python 3.8.13 ('wcc')",
   "language": "python",
   "name": "python3"
  },
  "language_info": {
   "codemirror_mode": {
    "name": "ipython",
    "version": 3
   },
   "file_extension": ".py",
   "mimetype": "text/x-python",
   "name": "python",
   "nbconvert_exporter": "python",
   "pygments_lexer": "ipython3",
   "version": "3.8.13"
  },
  "orig_nbformat": 4,
  "vscode": {
   "interpreter": {
    "hash": "b1712139186b68576e1a5222c64cb892a9b79e0f480114c93949210425a53fdf"
   }
  }
 },
 "nbformat": 4,
 "nbformat_minor": 2
}
